{
 "cells": [
  {
   "cell_type": "code",
   "execution_count": 1,
   "id": "835ba62b-2b77-44c2-9fc2-e7c95ce4fd9f",
   "metadata": {},
   "outputs": [
    {
     "name": "stdout",
     "output_type": "stream",
     "text": [
      "Defaulting to user installation because normal site-packages is not writeable\n",
      "Requirement already satisfied: nibabel in /home/jovyan/.local/lib/python3.11/site-packages (5.2.1)\n",
      "Requirement already satisfied: numpy>=1.20 in /usr/local/lib/python3.11/site-packages (from nibabel) (1.26.4)\n",
      "Requirement already satisfied: packaging>=17 in /usr/local/lib/python3.11/site-packages (from nibabel) (24.0)\n"
     ]
    }
   ],
   "source": [
    "!pip install nibabel"
   ]
  },
  {
   "cell_type": "code",
   "execution_count": 21,
   "id": "dcca26fa-1fe4-42e8-9c47-de72b4898396",
   "metadata": {},
   "outputs": [],
   "source": [
    "import matplotlib.pyplot as plt\n",
    "from matplotlib import animation\n",
    "from IPython.display import HTML\n",
    "from scipy.ndimage import gaussian_filter\n",
    "import numpy as np\n",
    "from skimage.transform import resize, rotate\n",
    "from PIL import Image\n",
    "import nibabel as nib\n",
    "import os"
   ]
  },
  {
   "cell_type": "code",
   "execution_count": 2,
   "id": "ed809362-1cb1-44ea-a525-7e8ff481476b",
   "metadata": {},
   "outputs": [],
   "source": [
    "%matplotlib inline"
   ]
  },
  {
   "cell_type": "code",
   "execution_count": 3,
   "id": "d41abd5a-6a2b-49e4-a558-5ef1c7dde69a",
   "metadata": {},
   "outputs": [],
   "source": [
    "# test_img_path = \"image_files/test_image/presentation_mri.jpg\""
   ]
  },
  {
   "cell_type": "code",
   "execution_count": 4,
   "id": "355d1600-c93d-474d-afbd-1e06101249b0",
   "metadata": {},
   "outputs": [],
   "source": [
    "# from PIL import Image\n",
    "# test_img = Image.open(test_img_path)\n",
    "# test_img.show()"
   ]
  },
  {
   "cell_type": "markdown",
   "id": "a6572ffd-660b-4645-bf1d-e9bb2367ec20",
   "metadata": {},
   "source": [
    "# Rotation & blur"
   ]
  },
  {
   "cell_type": "code",
   "execution_count": 5,
   "id": "4f2d7f3c-0b2a-4b5b-82b8-9f779842b1a6",
   "metadata": {},
   "outputs": [],
   "source": [
    "# import skimage\n",
    "# import numpy as np\n",
    "\n",
    "# rotated_array = skimage.transform.rotate(np.array(test_img),5, preserve_range=True)\n",
    "# rotated_img = Image.fromarray(np.uint8(rotated_array))\n",
    "# rotated_img.show()"
   ]
  },
  {
   "cell_type": "code",
   "execution_count": 7,
   "id": "cdb1cb26-3863-44cb-803d-cd59febbdace",
   "metadata": {},
   "outputs": [],
   "source": [
    "# blurred_array = skimage.filters.gaussian(np.array(test_img),sigma=2,preserve_range=True)\n",
    "# blurred_img = Image.fromarray(np.uint8(blurred_array))\n",
    "# blurred_img.show()"
   ]
  },
  {
   "cell_type": "markdown",
   "id": "0bf945c7-ef10-42f9-adca-dd9b4d70ef07",
   "metadata": {},
   "source": [
    "# Generating augmented frames for 2D image"
   ]
  },
  {
   "cell_type": "code",
   "execution_count": 6,
   "id": "f2846ddb-2b47-4355-8559-a92bbcc52b53",
   "metadata": {},
   "outputs": [],
   "source": [
    "def imgage_path_to_array(image_path):\n",
    "    if '.dcm' in image_path:\n",
    "        dicom_data = pydicom.dcmread(image_path)\n",
    "        return dicom_data.pixel_array\n",
    "    elif '.nii.gz' in image_path:\n",
    "        nifti_data = nib.load(image_path)\n",
    "        return nifti_data.get_fdata()\n",
    "    else:\n",
    "        return np.array(Image.open(image_path))"
   ]
  },
  {
   "cell_type": "code",
   "execution_count": 9,
   "id": "563b40cb-9991-449d-a1fd-6558bec44b6b",
   "metadata": {},
   "outputs": [],
   "source": [
    "# def save_frame(frame, frame_number, save_frame_path, frame_name):\n",
    "#     frame_path = save_frame_path + f\"{frame_name}_{frame_number:02d}.png\"\n",
    "#     Image.fromarray((frame * 255).astype(np.uint8)).save(frame_path)\n",
    "#     img = plt.imread(frame_path)\n",
    "#     return img"
   ]
  },
  {
   "cell_type": "code",
   "execution_count": 10,
   "id": "aabed5bd-42e3-4cb0-bf8b-e52eb75dee88",
   "metadata": {},
   "outputs": [],
   "source": [
    "# def calculate_max_size(image_array, max_elongation):\n",
    "#     max_height = int(image_array.shape[0] * (1 + max_elongation))\n",
    "#     max_width = int(image_array.shape[1] * (1 + 0.25 * max_elongation))\n",
    "#     return max_height, max_width"
   ]
  },
  {
   "cell_type": "code",
   "execution_count": 11,
   "id": "d1f1f403-da87-4d56-a2cd-d479e863be80",
   "metadata": {},
   "outputs": [],
   "source": [
    "# def generate_random_factors(num_frames, random=True):\n",
    "#     if random:\n",
    "#         rnd_factors = {\n",
    "#             \"rnd_me\": np.random.rand() - 0.5,\n",
    "#             \"rnd_ts\": np.random.randint(0, int(num_frames * 0.15)) - int(num_frames * 0.15 * 0.5),\n",
    "#             \"rnd_blur_size\": (np.random.rand() - 0.5) * 2,\n",
    "#             \"rnd_blur_shift\": (np.random.rand() - 0.5) * np.pi\n",
    "#         }\n",
    "#     else:\n",
    "#         rnd_factors = {\"rnd_me\": 0, \"rnd_ts\": 0, \"rnd_blur_size\": 0, \"rnd_blur_shift\": 0}\n",
    "#     return rnd_factors\n",
    "\n",
    "# def apply_random_factors(max_elongation, blur_size, rnd_factors):\n",
    "#     max_elongation += rnd_factors[\"rnd_me\"] * 0.015\n",
    "#     blur_size += rnd_factors[\"rnd_blur_size\"]\n",
    "#     blur_shift = rnd_factors[\"rnd_blur_shift\"]\n",
    "#     return max_elongation, blur_size, blur_shift"
   ]
  },
  {
   "cell_type": "code",
   "execution_count": 12,
   "id": "13f49586-df3e-453a-9867-ee9f7df5097c",
   "metadata": {},
   "outputs": [],
   "source": [
    "# def generate_frame(image_array, frame_number, num_frames, max_elongation, blur_size, blur_shift, max_size):\n",
    "#     t = np.linspace(0, 2 * np.pi, num_frames)[frame_number]\n",
    "#     elongation_factor_height = 1.0 + max_elongation * np.sin(t)\n",
    "#     elongation_factor_width = 1.0 + max_elongation * np.sin(t) * 0.25\n",
    "#     output_image = resize(image_array, (int(image_array.shape[0] * elongation_factor_height),\n",
    "#                                         int(image_array.shape[1] * elongation_factor_width)),\n",
    "#                           anti_aliasing=True, mode='reflect')\n",
    "    \n",
    "#     sigma = 0 + (blur_size * np.abs(np.sin(t + blur_shift)))\n",
    "#     output_image = gaussian_filter(output_image, sigma=(sigma, 0, 0))\n",
    "\n",
    "#     background = np.zeros((max_size[0], max_size[1], 3))\n",
    "#     top_offset = max_size[0] - output_image.shape[0]\n",
    "#     left_offset = int((max_size[1] - output_image.shape[1]) / 2)\n",
    "#     background[top_offset:top_offset + output_image.shape[0], left_offset:left_offset + output_image.shape[1]] = output_image[..., :3]\n",
    "#     return background"
   ]
  },
  {
   "cell_type": "code",
   "execution_count": 13,
   "id": "948347d3-1df2-4aa2-a8bd-ad5fc74a5bca",
   "metadata": {},
   "outputs": [],
   "source": [
    "# def generate_effect_frames_for_animation(image_path, save_frame_path,frame_name = \"frame\", num_frames=10, max_elongation=0.025, blur=True, random=False):\n",
    "    \n",
    "#     # get array from img path\n",
    "#     image_array = imgage_path_to_array(image_path)\n",
    "\n",
    "#     blur_size = 3\n",
    "#     blur_shift = 0\n",
    "\n",
    "    \n",
    "#     #generate random factor for amplitude, time scale, blur \n",
    "#     rnd_factors = generate_random_factors(num_frames, random)\n",
    "#     max_elongation, blur_size, blur_shift = apply_random_factors(max_elongation, blur_size, rnd_factors)\n",
    "    \n",
    "    \n",
    "#     # Calculate the maximum elongation size of the output image (biggest elongations)\n",
    "#     max_height, max_width = calculate_max_size(image_array, max_elongation)\n",
    "#     max_size = (max_height, max_width)\n",
    "\n",
    "#     frames = []\n",
    "#     for frame_number in range(num_frames):\n",
    "#         background = generate_frame(image_array, frame_number, num_frames, max_elongation, blur_size, blur_shift, max_size)\n",
    "#         img = save_frame(background, frame_number, save_frame_path, frame_name)\n",
    "#         frames.append([img])\n",
    "\n",
    "#     return frames\n"
   ]
  },
  {
   "cell_type": "markdown",
   "id": "713faa6e-eb25-4ee5-86f1-2654a2965029",
   "metadata": {},
   "source": [
    "# Save frames, and display as animation"
   ]
  },
  {
   "cell_type": "code",
   "execution_count": 14,
   "id": "0ca8574e-71c7-48bb-b1f9-dc6b4553ba34",
   "metadata": {},
   "outputs": [],
   "source": [
    "# def frames_to_animation():\n",
    "#     pass"
   ]
  },
  {
   "cell_type": "code",
   "execution_count": 15,
   "id": "bacae08d-5a53-4509-9d44-54df68a5cdf6",
   "metadata": {},
   "outputs": [],
   "source": [
    "# num_frames = 10\n",
    "# test_img_path = \"image_files/test_image/presentation_mri.jpg\"\n",
    "# save_frame_path = \"image_files/test_image/frames/\" #needs '/' at the end; TODO: add fix in function\n",
    "# # test_img_path = \"image_files/test_patient/p_001.nii.gz\" #TODO: add .nii.gz compatibility\n",
    "# # save_frame_path = \"image_files/test_patient/frames/\" #needs '/' at the end TODO: add fix in function\n",
    "\n",
    "# frame_name = \"frame\"\n",
    "\n",
    "# # Generate frames with effects for animation\n",
    "# generate_effect_frames_for_animation(test_img_path,save_frame_path,frame_name,num_frames=num_frames, random=True)\n",
    "\n",
    "\n",
    "# # Set up the figure\n",
    "# fig = plt.figure()\n",
    "# ax = fig.add_subplot(111)\n",
    "# ax.axis('off')  # Turn off axes\n",
    "\n",
    "# # Load all the saved frames\n",
    "# frames = []  # To hold the images for animation\n",
    "# for i in range(0, num_frames):\n",
    "#     frame_path = save_frame_path+f\"{frame_name}_{i:02d}.png\"\n",
    "#     frame = Image.open(frame_path)\n",
    "#     frames.append([plt.imshow(frame, animated=True)])\n",
    "\n",
    "# # Create the animation\n",
    "# ani = animation.ArtistAnimation(fig, frames, interval=(2000/num_frames), blit=True, repeat_delay=1000)\n",
    "# ani.save('animation.gif', writer='pillow')\n",
    "# # Show the animation\n",
    "# plt.close()  # Close the static figure to prevent it from displaying\n",
    "# # ani  # This will show the animation in the output cell\n",
    "# %matplotlib inline\n",
    "# HTML(ani.to_jshtml())"
   ]
  },
  {
   "cell_type": "code",
   "execution_count": 16,
   "id": "d226ea07-adb7-41b5-8cd3-90f0c3482b56",
   "metadata": {},
   "outputs": [],
   "source": [
    "# import skimage\n",
    "# import numpy as np\n",
    "\n",
    "# def rotate_image(img, angle):\n",
    "#     #assumes `img` is loaded with PIL's `Image` function \n",
    "#     rotated_array = skimage.transform.rotate(np.array(img),angle, preserve_range=True)\n",
    "#     return Image.fromarray(np.uint8(rotated_array))\n",
    "\n",
    "# def flip_image_lr(img):\n",
    "#     #assumes `img` is loaded with PIL's `Image` function \n",
    "#     rotated_array = skimage.transform.rotate(np.array(img),0, preserve_range=True)\n",
    "#     return Image.fromarray(np.fliplr(np.uint8(rotated_array)))\n",
    "\n",
    "# rotated_image = rotate_image(test_img, 5)\n",
    "# rotated_image.show()\n",
    "# flipped_image = flip_image_lr(test_img)\n",
    "# flipped_image.show()\n",
    "# print(type(flipped_image))\n",
    "# print(type(test_img))\n"
   ]
  },
  {
   "cell_type": "code",
   "execution_count": 34,
   "id": "8ffb867c-0ca8-4fd9-9e6a-53bffb9b78fc",
   "metadata": {},
   "outputs": [
    {
     "name": "stdout",
     "output_type": "stream",
     "text": [
      "Total sequences generated: 990\n",
      "Sequences shape: (990, 20, 64, 64, 1)\n"
     ]
    }
   ],
   "source": [
    "import os\n",
    "import numpy as np\n",
    "import imageio\n",
    "from PIL import Image\n",
    "from skimage.transform import resize, rotate\n",
    "from scipy.ndimage import gaussian_filter\n",
    "import matplotlib.pyplot as plt\n",
    "\n",
    "def rotate_arr(arr, angle):\n",
    "    return rotate(arr, angle, preserve_range=True, mode='edge')\n",
    "\n",
    "def flip_array_lr(arr):\n",
    "    return np.fliplr(arr)\n",
    "\n",
    "def compress_array(arr, compression_factor_height, compression_factor_width):\n",
    "    return resize(arr, (int(arr.shape[0] * compression_factor_height),\n",
    "                        int(arr.shape[1] * compression_factor_width)),\n",
    "                  anti_aliasing=True, mode='reflect')\n",
    "\n",
    "def plot_arr(arr, hide_axis=False):\n",
    "    plt.imshow(arr, cmap='gray', interpolation='nearest')\n",
    "    if hide_axis:\n",
    "        plt.axis('off')\n",
    "    plt.show()\n",
    "\n",
    "def generate_frame(image_array, t, max_elongation, width_weight, blur_size):\n",
    "    elongation_factor_height = 1.0 + max_elongation * t\n",
    "    elongation_factor_width = 1.0 + max_elongation * width_weight * t\n",
    "    output_image = resize(image_array, (int(image_array.shape[0] * elongation_factor_height),\n",
    "                                        int(image_array.shape[1] * elongation_factor_width)),\n",
    "                          anti_aliasing=True, preserve_range=True)\n",
    "    \n",
    "    sigma = blur_size * np.abs(t)\n",
    "    output = gaussian_filter(output_image, sigma=(sigma, sigma * width_weight))\n",
    "    return output\n",
    "\n",
    "def random_resize_image(base_image, rand_min=0.5, rand_max=1.5):\n",
    "    rand_height = int(base_image.shape[0] * np.random.uniform(rand_min, rand_max))\n",
    "    rand_width = int(base_image.shape[1] * np.random.uniform(rand_min, rand_max))\n",
    "    resized_image = resize(base_image, (rand_height, rand_width), \n",
    "                           anti_aliasing=True, preserve_range=True)\n",
    "    return resized_image\n",
    "\n",
    "def place_image_on_black_frame(base_image, resized_image, black_frame_size):\n",
    "    resized_height = resized_image.shape[0]\n",
    "    resized_width = resized_image.shape[1]\n",
    "    \n",
    "    black_image = np.zeros(black_frame_size, dtype=base_image.dtype)\n",
    "    vertical_start = black_frame_size[0] - resized_height\n",
    "    horizontal_start = (black_frame_size[1] - resized_width) // 2\n",
    "    black_image[vertical_start:vertical_start + resized_height, horizontal_start:horizontal_start + resized_width] = resized_image.astype(base_image.dtype)\n",
    "    return black_image\n",
    "\n",
    "def normalize_sequence(frames, target_shape):\n",
    "    normalized_frames = [resize(frame, target_shape, anti_aliasing=True) for frame in frames]\n",
    "    return normalized_frames\n",
    "\n",
    "def average_third_dimension(array):\n",
    "    return array\n",
    "\n",
    "def save_frames(frames, folder_path, sequence_index):\n",
    "    if not os.path.exists(folder_path):\n",
    "        os.makedirs(folder_path)\n",
    "    for idx, frame in enumerate(frames):\n",
    "        file_path = os.path.join(folder_path, f'seq{sequence_index}_frame{idx}.png')\n",
    "        if frame.shape[-1] == 1:\n",
    "            frame = np.squeeze(frame, axis=-1)\n",
    "        frame = (255 * (frame - np.min(frame)) / (np.max(frame) - np.min(frame))).astype(np.uint8)\n",
    "        imageio.imwrite(file_path, frame)\n",
    "\n",
    "input_folder = \"/Users/christosmichalopoulos/Desktop/segm/biggest_slice\"  # Replace with the path to your input images\n",
    "output_folder = \"/Users/christosmichalopoulos/Desktop/segm/sequences\"  # Replace with the path to save sequences\n",
    "\n",
    "n = 10  # Number of sequences per image\n",
    "m = 20  # Number of frames per sequence\n",
    "\n",
    "image_files = sorted([os.path.join(input_folder, f) for f in os.listdir(input_folder) if f.endswith('.png')])\n",
    "\n",
    "sequences = []\n",
    "sequence_index = 0\n",
    "\n",
    "for image_file in image_files:\n",
    "    original_image = np.array(Image.open(image_file))\n",
    "    \n",
    "    for _ in range(n):\n",
    "        main_sequence_image = original_image\n",
    "        frames = []\n",
    "        \n",
    "        time_wave_start = 2 * (np.random.rand() - 0.5)\n",
    "        time_wave_end = (2 + time_wave_start) + 2 * (np.random.rand() - 0.5)\n",
    "        time_wave = np.sin(np.linspace(time_wave_start * np.pi, time_wave_end * np.pi, m))\n",
    "        max_elongation = np.random.rand() * 0.3\n",
    "        width_weight = np.random.rand() * 0.3\n",
    "        blur_amount = np.random.rand() * 10\n",
    "        flip_or_not = np.round(np.random.rand())\n",
    "        rot_angle = np.random.rand() * 5\n",
    "        \n",
    "        for j in range(m):\n",
    "            edited_array = generate_frame(main_sequence_image, time_wave[j], max_elongation, width_weight, blur_amount)\n",
    "            black_frame_size = (int(main_sequence_image.shape[0] * (1 + max_elongation)),\n",
    "                                int(main_sequence_image.shape[1] * (1 + max_elongation)))\n",
    "            \n",
    "            frame = place_image_on_black_frame(main_sequence_image, edited_array, black_frame_size)\n",
    "            frame = average_third_dimension(frame)\n",
    "            if flip_or_not == 1:\n",
    "                frame = flip_array_lr(frame)\n",
    "            frame = rotate_arr(frame, rot_angle)\n",
    "            frames.append(frame)\n",
    "        \n",
    "        target_shape = (64, 64, 1)\n",
    "        reshaped_frames = normalize_sequence(frames, target_shape)\n",
    "        sequences.append(reshaped_frames)\n",
    "        save_frames(reshaped_frames, output_folder, sequence_index)\n",
    "        sequence_index += 1\n",
    "\n",
    "print(f\"Total sequences generated: {len(sequences)}\")\n",
    "print(f\"Sequences shape: {np.array(sequences).shape}\")\n"
   ]
  },
  {
   "cell_type": "code",
   "execution_count": 37,
   "id": "2507e29c-b0e2-46dd-9bb3-cfaa362146d5",
   "metadata": {},
   "outputs": [],
   "source": [
    "import os\n",
    "import numpy as np\n",
    "from PIL import Image\n",
    "import re\n",
    "\n",
    "# Define the function to load sequences from a folder\n",
    "def load_sequences_from_folder(folder_path):\n",
    "    sequences_dict = {}\n",
    "    pattern = re.compile(r'seq(\\d+)_frame(\\d+)\\.png')\n",
    "\n",
    "    for frame_file in sorted(os.listdir(folder_path)):\n",
    "        match = pattern.match(frame_file)\n",
    "        if match:\n",
    "            sequence_num = int(match.group(1))\n",
    "            frame_num = int(match.group(2))\n",
    "\n",
    "            if sequence_num not in sequences_dict:\n",
    "                sequences_dict[sequence_num] = []\n",
    "\n",
    "            # Load image and create and dictionary with the images as arrays\n",
    "            frame_path = os.path.join(folder_path, frame_file)\n",
    "            image = Image.open(frame_path).convert('L')  \n",
    "            image_array = np.array(image)\n",
    "            sequences_dict[sequence_num].append((frame_num, image_array))\n",
    "\n",
    "    # Convert sequences to numpy arrays ordered by their seq_number and frame_number\n",
    "    sequences = []\n",
    "    for sequence_num in sorted(sequences_dict.keys()):\n",
    "        frames = sorted(sequences_dict[sequence_num], key=lambda x: x[0])\n",
    "        frames_array = np.stack([frame[1] for frame in frames], axis=0)\n",
    "        sequences.append(frames_array)\n",
    "\n",
    "    return np.array(sequences)\n",
    "\n",
    "folder_path = \"/Users/christosmichalopoulos/Desktop/segm/sequences\"  \n",
    "\n",
    "sequences = load_sequences_from_folder(folder_path)\n",
    "\n",
    "dataset = np.expand_dims(sequences, axis=-1)\n",
    "\n",
    "output_directory = folder_path\n",
    "if not os.path.exists(output_directory):\n",
    "    os.makedirs(output_directory)\n",
    "\n",
    "output_file = os.path.join(output_directory, 'sequences.npy')\n",
    "\n",
    "np.save(output_file, dataset)\n"
   ]
  },
  {
   "cell_type": "code",
   "execution_count": null,
   "id": "5ea5516f",
   "metadata": {},
   "outputs": [],
   "source": []
  }
 ],
 "metadata": {
  "kernelspec": {
   "display_name": "Python 3 (ipykernel)",
   "language": "python",
   "name": "python3"
  },
  "language_info": {
   "codemirror_mode": {
    "name": "ipython",
    "version": 3
   },
   "file_extension": ".py",
   "mimetype": "text/x-python",
   "name": "python",
   "nbconvert_exporter": "python",
   "pygments_lexer": "ipython3",
   "version": "3.11.5"
  }
 },
 "nbformat": 4,
 "nbformat_minor": 5
}
