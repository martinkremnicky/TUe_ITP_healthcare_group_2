{
 "cells": [
  {
   "cell_type": "code",
   "execution_count": 1,
   "metadata": {},
   "outputs": [
    {
     "name": "stderr",
     "output_type": "stream",
     "text": [
      "2024-06-02 18:34:05.154452: I tensorflow/core/platform/cpu_feature_guard.cc:182] This TensorFlow binary is optimized to use available CPU instructions in performance-critical operations.\n",
      "To enable the following instructions: AVX2 FMA, in other operations, rebuild TensorFlow with the appropriate compiler flags.\n"
     ]
    }
   ],
   "source": [
    "# Imports \n",
    "import numpy as np \n",
    "import matplotlib.pyplot as plt\n",
    "import keras\n",
    "from keras import layers\n",
    "import io \n",
    "import imageio\n",
    "from IPython.display import Image, display\n",
    "from ipywidgets import widgets, Layout, HBox\n",
    "from keras.callbacks import ModelCheckpoint\n",
    "from keras.models import load_model\n",
    "\n",
    "\n"
   ]
  },
  {
   "cell_type": "code",
   "execution_count": 2,
   "metadata": {},
   "outputs": [
    {
     "name": "stdout",
     "output_type": "stream",
     "text": [
      "Training Dataset Shapes: (891, 20, 64, 64, 1)\n",
      "Validation Dataset Shapes: (99, 20, 64, 64, 1)\n",
      "Training Dataset Shapes: (891, 19, 64, 64, 1), (891, 19, 64, 64, 1)\n",
      "Validation Dataset Shapes: (99, 19, 64, 64, 1), (99, 19, 64, 64, 1)\n"
     ]
    }
   ],
   "source": [
    "# Download and load the dataset.\n",
    "fpath = \"/Users/christosmichalopoulos/Desktop/segm/sequences.npy\"\n",
    "dataset = np.load(fpath)\n",
    "\n",
    "# Split into train and validation sets using indexing to optimize memory.\n",
    "indexes = np.arange(dataset.shape[0])\n",
    "np.random.shuffle(indexes)\n",
    "train_index = indexes[: int(0.9 * dataset.shape[0])]\n",
    "val_index = indexes[int(0.9 * dataset.shape[0]) :]\n",
    "train_dataset = dataset[train_index]\n",
    "val_dataset = dataset[val_index]\n",
    "\n",
    "# Normalize the data to the 0-1 range.\n",
    "train_dataset = train_dataset / 255\n",
    "val_dataset = val_dataset / 255\n",
    "\n",
    "\n",
    "# Inspect the dataset.\n",
    "print(\"Training Dataset Shapes: \" + str(train_dataset.shape))\n",
    "print(\"Validation Dataset Shapes: \" + str(val_dataset.shape))\n",
    "\n",
    "\n",
    "# We'll define a helper function to shift the frames, where\n",
    "# `x` is frames 0 to n - 1, and `y` is frames 1 to n.\n",
    "def create_shifted_frames(data):\n",
    "    x = data[:, 0 : data.shape[1] - 1, :, :]\n",
    "    y = data[:, 1 : data.shape[1], :, :]\n",
    "    return x, y\n",
    "\n",
    "\n",
    "# Apply the processing function to the datasets.\n",
    "x_train, y_train = create_shifted_frames(train_dataset)\n",
    "x_val, y_val = create_shifted_frames(val_dataset)\n",
    "\n",
    "# Inspect the dataset.\n",
    "print(\"Training Dataset Shapes: \" + str(x_train.shape) + \", \" + str(y_train.shape))\n",
    "print(\"Validation Dataset Shapes: \" + str(x_val.shape) + \", \" + str(y_val.shape))"
   ]
  },
  {
   "cell_type": "code",
   "execution_count": 3,
   "metadata": {},
   "outputs": [
    {
     "name": "stdout",
     "output_type": "stream",
     "text": [
      "Displaying frames for example 780.\n"
     ]
    },
    {
     "data": {
      "image/png": "[encoded data removed]",
      "text/plain": [
       "<Figure size 1000x800 with 20 Axes>"
      ]
     },
     "metadata": {},
     "output_type": "display_data"
    }
   ],
   "source": [
    "# Construct a figure on which we will visualize the images.\n",
    "fig, axes = plt.subplots(4, 5, figsize=(10, 8))\n",
    "\n",
    "# Plot each of the sequential images for one random data example.\n",
    "data_choice = np.random.choice(range(len(train_dataset)), size=1)[0]\n",
    "for idx, ax in enumerate(axes.flat):\n",
    "    ax.imshow(np.squeeze(train_dataset[data_choice][idx]), cmap=\"gray\")\n",
    "    ax.set_title(f\"Frame {idx + 1}\")\n",
    "    ax.axis(\"off\")\n",
    "\n",
    "# Print information and display the figure.\n",
    "print(f\"Displaying frames for example {data_choice}.\")\n",
    "plt.show()"
   ]
  },
  {
   "cell_type": "code",
   "execution_count": 7,
   "metadata": {},
   "outputs": [
    {
     "name": "stdout",
     "output_type": "stream",
     "text": [
      "Model: \"model_2\"\n",
      "_________________________________________________________________\n",
      " Layer (type)                Output Shape              Param #   \n",
      "=================================================================\n",
      " input_3 (InputLayer)        [(None, None, 64, 64, 1   0         \n",
      "                             )]                                  \n",
      "                                                                 \n",
      " conv_lstm2d_6 (ConvLSTM2D)  (None, None, 64, 64, 64   416256    \n",
      "                             )                                   \n",
      "                                                                 \n",
      " batch_normalization_4 (Bat  (None, None, 64, 64, 64   256       \n",
      " chNormalization)            )                                   \n",
      "                                                                 \n",
      " conv_lstm2d_7 (ConvLSTM2D)  (None, None, 64, 64, 64   295168    \n",
      "                             )                                   \n",
      "                                                                 \n",
      " batch_normalization_5 (Bat  (None, None, 64, 64, 64   256       \n",
      " chNormalization)            )                                   \n",
      "                                                                 \n",
      " conv_lstm2d_8 (ConvLSTM2D)  (None, None, 64, 64, 64   33024     \n",
      "                             )                                   \n",
      "                                                                 \n",
      " conv3d_2 (Conv3D)           (None, None, 64, 64, 1)   1729      \n",
      "                                                                 \n",
      "=================================================================\n",
      "Total params: 746689 (2.85 MB)\n",
      "Trainable params: 746433 (2.85 MB)\n",
      "Non-trainable params: 256 (1.00 KB)\n",
      "_________________________________________________________________\n"
     ]
    }
   ],
   "source": [
    "# ConvLSTM model \n",
    "\n",
    "inputs = layers.Input(shape=(None, *x_train.shape[2:]))\n",
    "\n",
    "# First level of ConvLSTM\n",
    "x = layers.ConvLSTM2D(filters = 64, kernel_size=(5,5), padding=\"same\", return_sequences=True, activation = \"relu\")(inputs)\n",
    "x = layers.BatchNormalization()(x)\n",
    "\n",
    "# Second level of ConvLSTM\n",
    "x = layers.ConvLSTM2D(filters = 64, kernel_size=(3,3), padding=\"same\", return_sequences=True, activation = \"relu\")(x)\n",
    "x = layers.BatchNormalization()(x)\n",
    "x = layers.ConvLSTM2D(filters = 64, kernel_size=(1,1), padding=\"same\", return_sequences=True, activation = \"relu\")(x)\n",
    "\n",
    "# Conv3D as we want spatiotemporal dimensions \n",
    "output = layers.Conv3D(filters=1, kernel_size=(3,3,3), activation=\"sigmoid\", padding=\"same\")(x)\n",
    "\n",
    "conv_lstm = keras.models.Model(inputs, output)\n",
    "loss = keras.losses.MeanSquaredError()\n",
    "optimizer = keras.optimizers.Adam()\n",
    "\n",
    "conv_lstm.compile(loss = loss, optimizer = optimizer)\n",
    "conv_lstm.summary()\n"
   ]
  },
  {
   "cell_type": "code",
   "execution_count": 8,
   "metadata": {},
   "outputs": [],
   "source": [
    "checkpoint_callback = ModelCheckpoint(\n",
    "    filepath='conv_lstm_model_epoch_{epoch:02d}.h5',  \n",
    "    save_freq='epoch',                              \n",
    "    save_weights_only=False,                          \n",
    "    verbose=1                                         \n",
    ")"
   ]
  },
  {
   "cell_type": "code",
   "execution_count": 9,
   "metadata": {},
   "outputs": [
    {
     "name": "stdout",
     "output_type": "stream",
     "text": [
      "Epoch 1/5\n",
      "179/179 [==============================] - ETA: 0s - loss: 0.0049 \n",
      "Epoch 1: saving model to conv_lstm_model_epoch_01.h5\n",
      "179/179 [==============================] - 3323s 19s/step - loss: 0.0049 - val_loss: 0.0024\n",
      "Epoch 2/5\n"
     ]
    },
    {
     "name": "stderr",
     "output_type": "stream",
     "text": [
      "/Users/christosmichalopoulos/anaconda3/lib/python3.11/site-packages/keras/src/engine/training.py:3103: UserWarning: You are saving your model as an HDF5 file via `model.save()`. This file format is considered legacy. We recommend using instead the native Keras format, e.g. `model.save('my_model.keras')`.\n",
      "  saving_api.save_model(\n"
     ]
    },
    {
     "name": "stdout",
     "output_type": "stream",
     "text": [
      "179/179 [==============================] - ETA: 0s - loss: 0.0014 \n",
      "Epoch 2: saving model to conv_lstm_model_epoch_02.h5\n",
      "179/179 [==============================] - 3319s 19s/step - loss: 0.0014 - val_loss: 0.0015\n",
      "Epoch 3/5\n",
      " 13/179 [=>............................] - ETA: 47:26 - loss: 0.0011"
     ]
    }
   ],
   "source": [
    "# Train the model \n",
    "epochs = 5\n",
    "batch_size = 5\n",
    "\n",
    "conv_lstm.fit(x_train, y_train, batch_size=batch_size, epochs=epochs, \n",
    "              validation_data = (x_val, y_val), callbacks=[checkpoint_callback])"
   ]
  },
  {
   "cell_type": "code",
   "execution_count": null,
   "metadata": {},
   "outputs": [],
   "source": []
  }
 ],
 "metadata": {
  "kernelspec": {
   "display_name": "base",
   "language": "python",
   "name": "python3"
  },
  "language_info": {
   "codemirror_mode": {
    "name": "ipython",
    "version": 3
   },
   "file_extension": ".py",
   "mimetype": "text/x-python",
   "name": "python",
   "nbconvert_exporter": "python",
   "pygments_lexer": "ipython3",
   "version": "3.11.5"
  }
 },
 "nbformat": 4,
 "nbformat_minor": 2
}
