{
 "cells": [
  {
   "cell_type": "code",
   "execution_count": 24,
   "metadata": {},
   "outputs": [
    {
     "name": "stdout",
     "output_type": "stream",
     "text": [
      "Saved YOLO label to /Users/christosmichalopoulos/Desktop/5ARIP_Images_R/abc/slice_31_max_volume.txt\n"
     ]
    },
    {
     "data": {
      "image/png": "[encoded data removed]",
      "text/plain": [
       "<Figure size 640x480 with 1 Axes>"
      ]
     },
     "metadata": {},
     "output_type": "display_data"
    }
   ],
   "source": [
    "import nibabel as nib\n",
    "import numpy as np\n",
    "import os\n",
    "import matplotlib.pyplot as plt\n",
    "\n",
    "def create_bounding_box(segmentation_slice):\n",
    "    # Get the coordinates of tumor \n",
    "    tumor_coords = np.argwhere(segmentation_slice == 1)\n",
    "    \n",
    "    # If there are no tumor pixels, return a zero-size bounding box\n",
    "    if tumor_coords.size == 0:\n",
    "        print('Check other breast')\n",
    "        return 0, 0, 0, 0\n",
    "\n",
    "    ymin, xmin = np.min(tumor_coords, axis=0)\n",
    "    ymax, xmax = np.max(tumor_coords, axis=0)\n",
    "    \n",
    "    return xmin, ymin, xmax, ymax\n",
    "\n",
    "def save_yolo_format(label_file, class_id, xmin, ymin, xmax, ymax, img_width, img_height):\n",
    "    x_center = (xmin + xmax) / 2 / img_width\n",
    "    y_center = (ymin + ymax) / 2 / img_height\n",
    "    bbox_width = (xmax - xmin) / img_width\n",
    "    bbox_height = (ymax - ymin) / img_height\n",
    "    \n",
    "    with open(label_file, 'w') as f:\n",
    "        f.write(f\"{class_id} {x_center} {y_center} {bbox_width} {bbox_height}\\n\")\n",
    "\n",
    "def visualize_bounding_box(segmentation_slice, xmin, ymin, xmax, ymax):\n",
    "    plt.imshow(segmentation_slice, cmap='gray')\n",
    "    if xmin != xmax and ymin != ymax:\n",
    "        plt.gca().add_patch(plt.Rectangle((xmin, ymin), xmax - xmin, ymax - ymin, edgecolor='red', facecolor='none', lw=1))\n",
    "    plt.title('Bounding Box on Segmentation Slice')\n",
    "    plt.show()\n",
    "\n",
    "def calculate_tumor_volume(segmentation_data):\n",
    "    tumor_volume = []\n",
    "    for slice_index in range(segmentation_data.shape[2]):\n",
    "        segmentation_slice = segmentation_data[:, :, slice_index]\n",
    "        tumor_volume.append(np.sum(segmentation_slice == 1))\n",
    "    return tumor_volume\n",
    "\n",
    "def find_slice_with_highest_tumor_volume(segmentation_data):\n",
    "    tumor_volume = calculate_tumor_volume(segmentation_data)\n",
    "    max_volume_slice_index = np.argmax(tumor_volume)\n",
    "    max_volume = tumor_volume[max_volume_slice_index]\n",
    "    return max_volume_slice_index, max_volume\n",
    "\n",
    "def process_nifti_file(segmentation_file, output_folder, class_id=0):\n",
    "    img = nib.load(segmentation_file)\n",
    "    data = img.get_fdata()\n",
    "\n",
    "    max_volume_slice_index, max_volume = find_slice_with_highest_tumor_volume(data)\n",
    "\n",
    "    # Get the slice with the highest tumor volume\n",
    "    segmentation_slice = data[:, :, max_volume_slice_index]\n",
    "    xmin, ymin, xmax, ymax = create_bounding_box(segmentation_slice)\n",
    "\n",
    "    # Ensure output folder exists\n",
    "    os.makedirs(output_folder, exist_ok=True)\n",
    "\n",
    "    img_width, img_height = segmentation_slice.shape[1], segmentation_slice.shape[0]\n",
    "    label_file = os.path.join(output_folder, f\"slice_{max_volume_slice_index}_max_volume.txt\")\n",
    "\n",
    "    save_yolo_format(label_file, class_id, xmin, ymin, xmax, ymax, img_width, img_height)\n",
    "    print(f\"Saved YOLO label to {label_file}\")\n",
    "\n",
    "    # Visualization\n",
    "    visualize_bounding_box(segmentation_slice, xmin, ymin, xmax, ymax)\n",
    "\n",
    "nifti_file_path = '/Users/christosmichalopoulos/Desktop/5ARIP_Images_R/left_p_001_ROI.nii.gz'\n",
    "output_label_folder = '/Users/christosmichalopoulos/Desktop/5ARIP_Images_R/abc/'\n",
    "process_nifti_file(nifti_file_path, output_label_folder)\n"
   ]
  },
  {
   "cell_type": "code",
   "execution_count": null,
   "metadata": {},
   "outputs": [],
   "source": [
    "nifti_file_path = '/Users/christosmichalopoulos/Desktop/5ARIP_Images_R/left_p_001_ROI.nii.gz'\n",
    "output_label_folder = '/Users/christosmichalopoulos/Desktop/5ARIP_Images_R/abc/'\n"
   ]
  }
 ],
 "metadata": {
  "kernelspec": {
   "display_name": "base",
   "language": "python",
   "name": "python3"
  },
  "language_info": {
   "codemirror_mode": {
    "name": "ipython",
    "version": 3
   },
   "file_extension": ".py",
   "mimetype": "text/x-python",
   "name": "python",
   "nbconvert_exporter": "python",
   "pygments_lexer": "ipython3",
   "version": "3.11.5"
  }
 },
 "nbformat": 4,
 "nbformat_minor": 2
}
